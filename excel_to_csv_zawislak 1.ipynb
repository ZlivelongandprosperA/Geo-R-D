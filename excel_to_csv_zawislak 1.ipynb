{
 "cells": [
  {
   "cell_type": "code",
   "execution_count": 1,
   "metadata": {},
   "outputs": [],
   "source": [
    "# Program to extract a particular row value\n",
    "import csv\n",
    "import xlrd\n",
    "import sys\n",
    "import pandas as pd"
   ]
  },
  {
   "cell_type": "code",
   "execution_count": 2,
   "metadata": {},
   "outputs": [],
   "source": [
    "import openpyxl \n",
    "from openpyxl.utils import range_boundaries\n",
    "book=openpyxl.load_workbook(\"karta.xlsx\")\n",
    "sheet=book[\"Table 1\"]\n",
    "for cell_group in sheet.merged_cells.ranges:\n",
    "\tmin_col, min_row, max_col, max_row = range_boundaries(str(cell_group))\n",
    "\ttop_left_cell_value = sheet.cell(row=min_row, column=min_col).value\n",
    "\tsheet.unmerge_cells(str(cell_group))\n",
    "\tfor row in sheet.iter_rows(min_col=min_col, min_row=min_row, max_col=max_col, max_row=max_row):\n",
    "\t\tfor cell in row:\n",
    "\t\t\tcell.value = top_left_cell_value\n",
    "book.save(\"karta_unmerged.xlsx\")\n",
    "exit()"
   ]
  },
  {
   "cell_type": "code",
   "execution_count": 1,
   "metadata": {},
   "outputs": [],
   "source": []
  },
  {
   "cell_type": "code",
   "execution_count": 2,
   "metadata": {},
   "outputs": [
    {
     "ename": "NameError",
     "evalue": "name 'csv' is not defined",
     "output_type": "error",
     "traceback": [
      "\u001b[1;31m---------------------------------------------------------------------------\u001b[0m",
      "\u001b[1;31mNameError\u001b[0m                                 Traceback (most recent call last)",
      "\u001b[1;32m<ipython-input-2-76f8fabd0d86>\u001b[0m in \u001b[0;36m<module>\u001b[1;34m\u001b[0m\n\u001b[0;32m      6\u001b[0m \u001b[1;33m\u001b[0m\u001b[0m\n\u001b[0;32m      7\u001b[0m \u001b[1;31m# writer object is created\u001b[0m\u001b[1;33m\u001b[0m\u001b[1;33m\u001b[0m\u001b[1;33m\u001b[0m\u001b[0m\n\u001b[1;32m----> 8\u001b[1;33m \u001b[0mcol\u001b[0m \u001b[1;33m=\u001b[0m \u001b[0mcsv\u001b[0m\u001b[1;33m.\u001b[0m\u001b[0mwriter\u001b[0m\u001b[1;33m(\u001b[0m\u001b[0mopen\u001b[0m\u001b[1;33m(\u001b[0m\u001b[1;34m\"karta1111.csv\"\u001b[0m\u001b[1;33m,\u001b[0m   \u001b[1;34m'w'\u001b[0m\u001b[1;33m,\u001b[0m  \u001b[0mnewline\u001b[0m\u001b[1;33m=\u001b[0m\u001b[1;34m\"\"\u001b[0m\u001b[1;33m)\u001b[0m\u001b[1;33m)\u001b[0m\u001b[1;33m\u001b[0m\u001b[1;33m\u001b[0m\u001b[0m\n\u001b[0m",
      "\u001b[1;31mNameError\u001b[0m: name 'csv' is not defined"
     ]
    }
   ],
   "source": [
    "# writing the data into csv file\n",
    "import xlrd\n",
    "# open workbook by sheet index, \n",
    "# optional - sheet_by_index() \n",
    "sheet = xlrd.open_workbook(\"karta.xlsx\").sheet_by_index(0)\n",
    "    \n",
    "  \n",
    "# writer object is created \n",
    "col = csv.writer(open(\"karta1111.csv\",   'w',  newline=\"\"))"
   ]
  },
  {
   "cell_type": "code",
   "execution_count": 7,
   "metadata": {},
   "outputs": [],
   "source": [
    "# writing the data into csv file\n",
    "for row in range(8, sheet.nrows - 2): \n",
    "    # row by row write  \n",
    "    # operation is perform \n",
    "    col.writerow(sheet.row_values(row)) "
   ]
  },
  {
   "cell_type": "code",
   "execution_count": null,
   "metadata": {},
   "outputs": [],
   "source": []
  }
 ],
 "metadata": {
  "kernelspec": {
   "display_name": "Python 3",
   "language": "python",
   "name": "python3"
  },
  "language_info": {
   "codemirror_mode": {
    "name": "ipython",
    "version": 3
   },
   "file_extension": ".py",
   "mimetype": "text/x-python",
   "name": "python",
   "nbconvert_exporter": "python",
   "pygments_lexer": "ipython3",
   "version": "3.8.5"
  }
 },
 "nbformat": 4,
 "nbformat_minor": 4
}
