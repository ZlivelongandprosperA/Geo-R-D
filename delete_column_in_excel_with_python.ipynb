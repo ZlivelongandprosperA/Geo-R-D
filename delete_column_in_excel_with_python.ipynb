{
 "cells": [
  {
   "cell_type": "code",
   "execution_count": null,
   "metadata": {},
   "outputs": [],
   "source": [
    "#delete column\n",
    "import openpyxl\n",
    "book= openpyxl.load_workbook('karta.xlsx')\n",
    "sheet = book['Table 1']\n",
    "#delete multiple row at once\n",
    "sheet.delete_cols(1)\n",
    "book.save('openpy102.xlsx')"
   ]
  }
 ],
 "metadata": {
  "kernelspec": {
   "display_name": "Python 3",
   "language": "python",
   "name": "python3"
  },
  "language_info": {
   "codemirror_mode": {
    "name": "ipython",
    "version": 3
   },
   "file_extension": ".py",
   "mimetype": "text/x-python",
   "name": "python",
   "nbconvert_exporter": "python",
   "pygments_lexer": "ipython3",
   "version": "3.8.5"
  }
 },
 "nbformat": 4,
 "nbformat_minor": 4
}
