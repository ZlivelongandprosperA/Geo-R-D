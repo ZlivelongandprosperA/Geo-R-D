{
 "cells": [
  {
   "cell_type": "markdown",
   "metadata": {},
   "source": [
    "# Intro"
   ]
  },
  {
   "cell_type": "markdown",
   "metadata": {},
   "source": [
    "## 1.Uwierzytelnienia dla Plaxisa od Jupytera "
   ]
  },
  {
   "cell_type": "code",
   "execution_count": 19,
   "metadata": {
    "collapsed": true
   },
   "outputs": [],
   "source": [
    "localhostport_input = 10000 \n",
    "localhostport_output = 10001\n",
    "from plxscripting.easy import *\n",
    "s_i, g_i = new_server('localhost', localhostport_input, password='geotechnikawow')\n",
    "s_o, g_o = new_server('localhost', localhostport_output, password='geotechnikawow')"
   ]
  },
  {
   "cell_type": "markdown",
   "metadata": {},
   "source": [
    "## 2. Import bibliotek"
   ]
  },
  {
   "cell_type": "code",
   "execution_count": 20,
   "metadata": {
    "collapsed": true
   },
   "outputs": [],
   "source": [
    "from math import *\n",
    "from plxscripting.easy import *\n",
    "from xlrd import *\n",
    "from xlwt import *\n",
    "from numpy import *"
   ]
  },
  {
   "cell_type": "markdown",
   "metadata": {},
   "source": [
    " ## 3. Praca w Plaxisie"
   ]
  },
  {
   "cell_type": "markdown",
   "metadata": {},
   "source": [
    "When a new notebook is created through PLAXIS 3D Input, you have available two objects. One of them is the \"s_i\" object which represents the application server which can be accessed as follows:"
   ]
  },
  {
   "cell_type": "code",
   "execution_count": 21,
   "metadata": {},
   "outputs": [
    {
     "data": {
      "text/plain": [
       "<plxscripting.server.Server at 0x7b4b7f0>"
      ]
     },
     "execution_count": 21,
     "metadata": {},
     "output_type": "execute_result"
    }
   ],
   "source": [
    "s_i  # The application server"
   ]
  },
  {
   "cell_type": "markdown",
   "metadata": {},
   "source": [
    "You can also access the \"g_i\" object which represents the global environment:"
   ]
  },
  {
   "cell_type": "code",
   "execution_count": 22,
   "metadata": {},
   "outputs": [
    {
     "data": {
      "text/plain": [
       "<Global object>"
      ]
     },
     "execution_count": 22,
     "metadata": {},
     "output_type": "execute_result"
    }
   ],
   "source": [
    "g_i  # The global environment"
   ]
  },
  {
   "cell_type": "markdown",
   "metadata": {},
   "source": [
    "Now here's an example session with both of the previously mentioned objects, but don't forget to activate the remote scripting server in PLAXIS 3D Input:"
   ]
  },
  {
   "cell_type": "code",
   "execution_count": 23,
   "metadata": {},
   "outputs": [
    {
     "data": {
      "text/plain": [
       "'OK'"
      ]
     },
     "execution_count": 23,
     "metadata": {},
     "output_type": "execute_result"
    }
   ],
   "source": [
    "s_i.new()\n"
   ]
  },
  {
   "cell_type": "code",
   "execution_count": 24,
   "metadata": {
    "collapsed": true
   },
   "outputs": [],
   "source": [
    "# add a borehole in point (0, 0) \n",
    "g_i.borehole(0, 0)\n",
    "\n",
    "# add a soil layer with thickness 2m \n",
    "#g_i.soillayer(2)\n",
    "\n",
    "# add soil layers, each 1 m thick:\n",
    "for i in range(5):\n",
    "     g_i.soillayer(1)"
   ]
  },
  {
   "cell_type": "code",
   "execution_count": 25,
   "metadata": {},
   "outputs": [],
   "source": [
    "# create a parameter list [] and a material\n",
    "soilname = \"Clay\"\n",
    "soilmodel = 2 #Mohr-Coulomb\n",
    "drainagetype = 2 #Undrained B\n",
    "gammaUnsat = 20\n",
    "gammaSat = 20\n",
    "\n",
    "\n",
    "clay_params = [(\"MaterialName\", \"Clay2\"),\n",
    "               (\"SoilModel\", 2),\n",
    "               (\"Gref\", 5000),\n",
    "               (\"nu\", 0.35),\n",
    "               (\"cref\", 50)]\n",
    "ClayMC = g_i.soilmat(*clay_params)"
   ]
  },
  {
   "cell_type": "code",
   "execution_count": 27,
   "metadata": {},
   "outputs": [],
   "source": [
    "# material list:\n",
    "materials = [ClayMC]"
   ]
  },
  {
   "cell_type": "code",
   "execution_count": 28,
   "metadata": {
    "collapsed": true
   },
   "outputs": [],
   "source": [
    "# assign materials to the current configured soil layers\n",
    "for layer, material in zip(g_i.Soillayers, materials):\n",
    "    layer.Soil.Material = material"
   ]
  },
  {
   "cell_type": "code",
   "execution_count": null,
   "metadata": {
    "collapsed": true
   },
   "outputs": [],
   "source": []
  }
 ],
 "metadata": {
  "kernelspec": {
   "display_name": "PLAXIS Python 3",
   "language": "python",
   "name": "plaxis_python3"
  },
  "language_info": {
   "codemirror_mode": {
    "name": "ipython",
    "version": 3
   },
   "file_extension": ".py",
   "mimetype": "text/x-python",
   "name": "python",
   "nbconvert_exporter": "python",
   "pygments_lexer": "ipython3",
   "version": "3.4.5"
  },
  "toc": {
   "base_numbering": 1,
   "nav_menu": {},
   "number_sections": false,
   "sideBar": true,
   "skip_h1_title": false,
   "title_cell": "Table of Contents",
   "title_sidebar": "Contents",
   "toc_cell": false,
   "toc_position": {
    "height": "calc(100% - 180px)",
    "left": "10px",
    "top": "150px",
    "width": "165px"
   },
   "toc_section_display": true,
   "toc_window_display": true
  }
 },
 "nbformat": 4,
 "nbformat_minor": 2
}
