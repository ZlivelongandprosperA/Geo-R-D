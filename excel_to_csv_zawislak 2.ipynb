{
 "cells": [
  {
   "cell_type": "code",
   "execution_count": 3,
   "metadata": {},
   "outputs": [],
   "source": [
    "# Program to extract a particular row value\n",
    "import csv\n",
    "import xlrd\n",
    "import sys\n",
    "import openpyxl\n",
    "import pandas as pd"
   ]
  },
  {
   "cell_type": "code",
   "execution_count": 8,
   "metadata": {},
   "outputs": [
    {
     "name": "stdout",
     "output_type": "stream",
     "text": [
      "Table 1\n",
      "<xlrd.sheet.Sheet object at 0x0000018087A188E0> Table 1 22 28\n"
     ]
    }
   ],
   "source": [
    "from xlrd import open_workbook\n",
    "import csv\n",
    "\n",
    "wb = open_workbook('karta.xlsx')\n",
    "\n",
    "for i in range(0, wb.nsheets):\n",
    "    sheet = wb.sheet_by_index(i)\n",
    "    print(sheet.name)\n",
    "    with open(\"%s.csv\" %(sheet.name.replace(\" \",\" \")), \"w\") as file:\n",
    "        writer = csv.writer(file, delimiter = \",\")\n",
    "        print(sheet, sheet.name, sheet.ncols, sheet.nrows)\n",
    "\n",
    "        header = [cell.value for cell in sheet.row(0)]\n",
    "        writer.writerow(header)\n",
    "\n",
    "        for row_idx in range(1, sheet.nrows):\n",
    "            row = [int(cell.value) if isinstance(cell.value, float) else cell.value\n",
    "                   for cell in sheet.row(row_idx)]\n",
    "            writer.writerow(row)"
   ]
  },
  {
   "cell_type": "code",
   "execution_count": null,
   "metadata": {},
   "outputs": [],
   "source": []
  }
 ],
 "metadata": {
  "kernelspec": {
   "display_name": "Python 3",
   "language": "python",
   "name": "python3"
  },
  "language_info": {
   "codemirror_mode": {
    "name": "ipython",
    "version": 3
   },
   "file_extension": ".py",
   "mimetype": "text/x-python",
   "name": "python",
   "nbconvert_exporter": "python",
   "pygments_lexer": "ipython3",
   "version": "3.8.5"
  }
 },
 "nbformat": 4,
 "nbformat_minor": 4
}
