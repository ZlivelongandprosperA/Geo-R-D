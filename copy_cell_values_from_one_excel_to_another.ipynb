{
 "cells": [
  {
   "cell_type": "code",
   "execution_count": null,
   "metadata": {
    "collapsed": true
   },
   "outputs": [],
   "source": [
    "# importing openpyxl module \n",
    "import openpyxl as xl; \n",
    "  \n",
    "# opening the source excel file \n",
    "filename =\"C:\\\\Users\\\\Admin\\\\Desktop\\\\trading.xlsx\"\n",
    "wb1 = xl.load_workbook(filename) \n",
    "ws1 = wb1.worksheets[0] \n",
    "  \n",
    "# opening the destination excel file  \n",
    "filename1 =\"C:\\\\Users\\\\Admin\\\\Desktop\\\\test.xlsx\"\n",
    "wb2 = xl.load_workbook(filename1) \n",
    "ws2 = wb2.active \n",
    "  \n",
    "# calculate total number of rows and  \n",
    "# columns in source excel file \n",
    "mr = ws1.max_row \n",
    "mc = ws1.max_column \n",
    "  \n",
    "# copying the cell values from source  \n",
    "# excel file to destination excel file \n",
    "for i in range (1, mr + 1): \n",
    "    for j in range (1, mc + 1): \n",
    "        # reading cell value from source excel file \n",
    "        c = ws1.cell(row = i, column = j) \n",
    "  \n",
    "        # writing the read value to destination excel file \n",
    "        ws2.cell(row = i, column = j).value = c.value \n",
    "  \n",
    "# saving the destination excel file \n",
    "wb2.save(str(filename1)) "
   ]
  }
 ],
 "metadata": {
  "kernelspec": {
   "display_name": "PLAXIS Python 3",
   "language": "python",
   "name": "plaxis_python3"
  },
  "language_info": {
   "codemirror_mode": {
    "name": "ipython",
    "version": 3
   },
   "file_extension": ".py",
   "mimetype": "text/x-python",
   "name": "python",
   "nbconvert_exporter": "python",
   "pygments_lexer": "ipython3",
   "version": "3.4.5"
  }
 },
 "nbformat": 4,
 "nbformat_minor": 2
}
