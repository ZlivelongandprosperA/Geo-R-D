{
 "cells": [
  {
   "cell_type": "code",
   "execution_count": null,
   "metadata": {},
   "outputs": [],
   "source": [
    "#unmerging cells\n",
    "import openpyxl\n",
    "\n",
    "book = openpyxl.load_workbook ('karta.xlsx')\n",
    "sh = book['Table 1']\n",
    "a = sh.cell (row = 1, column = 1) .coordinate\n",
    "b = sh.cell (row = 1, column = 8) .coordinate\n",
    "sh.unmerge_cells ('a: b')\n",
    "book.save ('karta_1.xlsx')"
   ]
  }
 ],
 "metadata": {
  "kernelspec": {
   "display_name": "Python 3",
   "language": "python",
   "name": "python3"
  },
  "language_info": {
   "codemirror_mode": {
    "name": "ipython",
    "version": 3
   },
   "file_extension": ".py",
   "mimetype": "text/x-python",
   "name": "python",
   "nbconvert_exporter": "python",
   "pygments_lexer": "ipython3",
   "version": "3.8.5"
  }
 },
 "nbformat": 4,
 "nbformat_minor": 4
}
