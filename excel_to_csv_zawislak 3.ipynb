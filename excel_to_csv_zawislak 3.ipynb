{
 "cells": [
  {
   "cell_type": "code",
   "execution_count": 1,
   "metadata": {},
   "outputs": [],
   "source": [
    "import xlrd\n",
    "import csv\n",
    "\n",
    "with xlrd.open_workbook('karta.xlsx') as wb:\n",
    "    sh = wb.sheet_by_index(0)  # or wb.sheet_by_name('name_of_the_sheet_here')\n",
    "    with open('a_file.csv', 'w', newline=\"\") as f:   # open('a_file.csv', 'w', newline=\"\") for python 3\n",
    "        c = csv.writer(f)\n",
    "        for r in range(sh.nrows):\n",
    "            c.writerow(sh.row_values(r))"
   ]
  },
  {
   "cell_type": "code",
   "execution_count": null,
   "metadata": {},
   "outputs": [],
   "source": []
  }
 ],
 "metadata": {
  "kernelspec": {
   "display_name": "Python 3",
   "language": "python",
   "name": "python3"
  },
  "language_info": {
   "codemirror_mode": {
    "name": "ipython",
    "version": 3
   },
   "file_extension": ".py",
   "mimetype": "text/x-python",
   "name": "python",
   "nbconvert_exporter": "python",
   "pygments_lexer": "ipython3",
   "version": "3.8.5"
  }
 },
 "nbformat": 4,
 "nbformat_minor": 4
}
