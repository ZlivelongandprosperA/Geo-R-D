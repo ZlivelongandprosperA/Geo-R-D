{
 "cells": [
  {
   "cell_type": "code",
   "execution_count": null,
   "metadata": {},
   "outputs": [],
   "source": [
    "#unmerge a whole file\n",
    "import openpyxl \n",
    "from openpyxl.utils import range_boundaries\n",
    "book=openpyxl.load_workbook(\"karta_unmerged.xlsx\")\n",
    "sheet=book[\"Table 1\"]\n",
    "for cell_group in sheet.merged_cells.ranges:\n",
    "\tmin_col, min_row, max_col, max_row = range_boundaries(str(cell_group))\n",
    "\ttop_left_cell_value = sheet.cell(row=min_row, column=min_col).value\n",
    "\tsheet.unmerge_cells(str(cell_group))\n",
    "\tfor row in sheet.iter_rows(min_col=min_col, min_row=min_row, max_col=max_col, max_row=max_row):\n",
    "\t\tfor cell in row:\n",
    "\t\t\tcell.value = top_left_cell_value\n",
    "book.save(\"karta_unmerged_unmerged.xlsx\")\n",
    "exit()"
   ]
  }
 ],
 "metadata": {
  "kernelspec": {
   "display_name": "Python 3",
   "language": "python",
   "name": "python3"
  },
  "language_info": {
   "codemirror_mode": {
    "name": "ipython",
    "version": 3
   },
   "file_extension": ".py",
   "mimetype": "text/x-python",
   "name": "python",
   "nbconvert_exporter": "python",
   "pygments_lexer": "ipython3",
   "version": "3.8.5"
  }
 },
 "nbformat": 4,
 "nbformat_minor": 4
}
