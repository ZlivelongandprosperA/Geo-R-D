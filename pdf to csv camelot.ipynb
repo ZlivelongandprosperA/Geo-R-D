{
 "cells": [
  {
   "cell_type": "code",
   "execution_count": null,
   "metadata": {},
   "outputs": [],
   "source": [
    "import camelot\n",
    "\n",
    "file = \"http://lab.fs.uni-lj.si/lasin/wp/IMIT_files/neural/doc/seminar8.pdf\"\n",
    " \n",
    "tables = camelot.read_pdf(file, pages = \"1-end\")\n",
    "#This returns a TableList object. To access any of the tables found by index, you can do this:\n",
    "\n",
    "# get the 0th-indexed-table table\n",
    "tables[0].df"
   ]
  }
 ],
 "metadata": {
  "kernelspec": {
   "display_name": "Python 3",
   "language": "python",
   "name": "python3"
  },
  "language_info": {
   "codemirror_mode": {
    "name": "ipython",
    "version": 3
   },
   "file_extension": ".py",
   "mimetype": "text/x-python",
   "name": "python",
   "nbconvert_exporter": "python",
   "pygments_lexer": "ipython3",
   "version": "3.8.5"
  }
 },
 "nbformat": 4,
 "nbformat_minor": 4
}
